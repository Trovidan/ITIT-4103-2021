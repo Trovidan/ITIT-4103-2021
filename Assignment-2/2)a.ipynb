{
  "nbformat": 4,
  "nbformat_minor": 2,
  "metadata": {
    "colab": {
      "name": "2) a.ipynb",
      "provenance": []
    },
    "kernelspec": {
      "name": "python3",
      "display_name": "Python 3"
    },
    "language_info": {
      "name": "python"
    }
  },
  "cells": [
    {
      "cell_type": "markdown",
      "source": [
        "Pranav Mishra\r\n",
        "2018IMT-068"
      ],
      "metadata": {}
    },
    {
      "cell_type": "code",
      "execution_count": null,
      "source": [
        "import numpy as np\r\n",
        "import pandas as pd\r\n",
        "import scipy.stats as stats"
      ],
      "outputs": [],
      "metadata": {}
    },
    {
      "cell_type": "code",
      "execution_count": 86,
      "source": [
        "class NB():\r\n",
        "    def prior(self, features, target):\r\n",
        "        self.prior = (features.groupby(target).apply(lambda x: len(x)) / self.rows).to_numpy()\r\n",
        "        return self.prior\r\n",
        "    \r\n",
        "    def parameters(self, features, target):\r\n",
        "        self.mean = features.groupby(target).apply(np.mean).to_numpy()\r\n",
        "        self.var = features.groupby(target).apply(np.var).to_numpy()\r\n",
        "        return self.mean, self.var\r\n",
        "    \r\n",
        "    def gaussians(self, class_idx, x):     \r\n",
        "        mean = self.mean[class_idx]\r\n",
        "        var = self.var[class_idx]\r\n",
        "        numerator = np.exp((-1/2)*((x-mean)**2) / (2 * var))\r\n",
        "        denominator = np.sqrt(2 * np.pi * var)\r\n",
        "        prob = numerator / denominator\r\n",
        "        return prob\r\n",
        "    \r\n",
        "    def calc_posterior(self, x):\r\n",
        "        posteriors = []\r\n",
        "        for i in range(self.count):\r\n",
        "            prior = np.log(self.prior[i])\r\n",
        "            conditional = np.sum(np.log(self.gaussians(i, x)))\r\n",
        "            posterior = prior + conditional\r\n",
        "            posteriors.append(posterior)\r\n",
        "        return self.classes[np.argmax(posteriors)]\r\n",
        "     \r\n",
        "    def fit(self, features, target):\r\n",
        "        self.classes = np.unique(target)\r\n",
        "        self.count = len(self.classes)\r\n",
        "        self.feature_nums = features.shape[1]\r\n",
        "        self.rows = features.shape[0]   \r\n",
        "        self.parameters(features, target)\r\n",
        "        self.prior(features, target)\r\n",
        "        \r\n",
        "    def predict(self, features):\r\n",
        "        preds = [self.calc_posterior(f) for f in features.to_numpy()]\r\n",
        "        return preds\r\n",
        "\r\n",
        "    def accuracy(self, y_test, y_pred):\r\n",
        "        accuracy = np.sum(y_test == y_pred) / len(y_test)\r\n",
        "        return accuracy\r\n",
        "\r\n"
      ],
      "outputs": [],
      "metadata": {
        "id": "MK-UwExlk-rz"
      }
    },
    {
      "cell_type": "code",
      "execution_count": 43,
      "source": [
        "df=pd.read_csv('/content/Sheet.csv')\n",
        "X, y = df.iloc[:,1:], df.iloc[:, 0]\n",
        "X_train, X_test, y_train, y_test = X[:6000], X[6000:], y[:6000], y[6000:]\n"
      ],
      "outputs": [],
      "metadata": {
        "id": "I5ia3nE_mnMr"
      }
    },
    {
      "cell_type": "code",
      "execution_count": 87,
      "source": [
        "x = NB()\n",
        "x.fit(X_train, y_train)"
      ],
      "outputs": [],
      "metadata": {
        "id": "UsWMkVEnk-uf"
      }
    },
    {
      "cell_type": "code",
      "execution_count": 88,
      "source": [
        "predictions = x.predict(X_test)"
      ],
      "outputs": [
        {
          "output_type": "stream",
          "name": "stderr",
          "text": [
            "/usr/local/lib/python3.7/dist-packages/ipykernel_launcher.py:14: RuntimeWarning: invalid value encountered in true_divide\n",
            "  \n",
            "/usr/local/lib/python3.7/dist-packages/ipykernel_launcher.py:14: RuntimeWarning: divide by zero encountered in true_divide\n",
            "  \n",
            "/usr/local/lib/python3.7/dist-packages/ipykernel_launcher.py:16: RuntimeWarning: invalid value encountered in true_divide\n",
            "  app.launch_new_instance()\n",
            "/usr/local/lib/python3.7/dist-packages/ipykernel_launcher.py:23: RuntimeWarning: divide by zero encountered in log\n"
          ]
        }
      ],
      "metadata": {
        "colab": {
          "base_uri": "https://localhost:8080/"
        },
        "id": "O8VICIxSk-xM",
        "outputId": "bd8dc4f9-6737-4577-f41e-b88ebf908870"
      }
    },
    {
      "cell_type": "code",
      "execution_count": 89,
      "source": [
        "from sklearn.metrics import classification_report\n",
        "print('\\nClassification Report\\n')\n",
        "print(classification_report(y_test, predictions))"
      ],
      "outputs": [
        {
          "output_type": "stream",
          "name": "stdout",
          "text": [
            "\n",
            "Classification Report\n",
            "\n",
            "              precision    recall  f1-score   support\n",
            "\n",
            "           0       0.10      1.00      0.18      6311\n",
            "           1       0.00      0.00      0.00      7206\n",
            "           2       0.00      0.00      0.00      6409\n",
            "           3       0.00      0.00      0.00      6533\n",
            "           4       0.00      0.00      0.00      6201\n",
            "           5       0.00      0.00      0.00      5799\n",
            "           6       0.00      0.00      0.00      6268\n",
            "           7       0.00      0.00      0.00      6642\n",
            "           8       0.00      0.00      0.00      6274\n",
            "           9       0.00      0.00      0.00      6357\n",
            "\n",
            "    accuracy                           0.10     64000\n",
            "   macro avg       0.01      0.10      0.02     64000\n",
            "weighted avg       0.01      0.10      0.02     64000\n",
            "\n"
          ]
        },
        {
          "output_type": "stream",
          "name": "stderr",
          "text": [
            "/usr/local/lib/python3.7/dist-packages/sklearn/metrics/_classification.py:1272: UndefinedMetricWarning: Precision and F-score are ill-defined and being set to 0.0 in labels with no predicted samples. Use `zero_division` parameter to control this behavior.\n",
            "  _warn_prf(average, modifier, msg_start, len(result))\n"
          ]
        }
      ],
      "metadata": {
        "colab": {
          "base_uri": "https://localhost:8080/"
        },
        "id": "_SZc2Wx9k-zt",
        "outputId": "3ee0143d-fd49-4509-d14d-9438a928ca00"
      }
    },
    {
      "cell_type": "code",
      "execution_count": null,
      "source": [],
      "outputs": [],
      "metadata": {
        "id": "6nBOrS3Y5Hl_"
      }
    }
  ]
}